{
 "cells": [
  {
   "cell_type": "code",
   "execution_count": 2,
   "id": "c9b2b1a7",
   "metadata": {
    "execution": {
     "iopub.execute_input": "2025-06-19T12:15:03.234859Z",
     "iopub.status.busy": "2025-06-19T12:15:03.234556Z",
     "iopub.status.idle": "2025-06-19T12:15:14.766870Z",
     "shell.execute_reply": "2025-06-19T12:15:14.766324Z",
     "shell.execute_reply.started": "2025-06-19T12:15:03.234829Z"
    },
    "trusted": true
   },
   "outputs": [],
   "source": [
    "import torch\n",
    "import torch.nn as nn\n",
    "from torchvision import transforms\n",
    "import os\n",
    "import pandas as pd\n",
    "import math\n",
    "import random\n",
    "from PIL import Image\n",
    "from torch.utils.data import Dataset, DataLoader\n",
    "from tqdm import tqdm"
   ]
  },
  {
   "cell_type": "code",
   "execution_count": 5,
   "id": "455e6da8",
   "metadata": {
    "execution": {
     "iopub.execute_input": "2025-06-19T12:15:14.768367Z",
     "iopub.status.busy": "2025-06-19T12:15:14.768040Z",
     "iopub.status.idle": "2025-06-19T12:15:14.772621Z",
     "shell.execute_reply": "2025-06-19T12:15:14.772034Z",
     "shell.execute_reply.started": "2025-06-19T12:15:14.768350Z"
    },
    "trusted": true
   },
   "outputs": [],
   "source": [
    "BASE_DIR = \"dataset/Air Pollution Image Dataset/Air Pollution Image Dataset/Combined_Dataset\"\n",
    "IMG_DIR = os.path.join(BASE_DIR, \"All_img\")\n",
    "CSV_DIR = os.path.join(BASE_DIR, \"IND_and_Nep_AQI_Dataset.csv\")\n",
    "NEGATIVE_DATASET_IMG_DIR = \"/home/mukulboro/python_projects/deblur/dataset/flickr30k_images\"\n",
    "random.seed(42)"
   ]
  },
  {
   "cell_type": "code",
   "execution_count": 6,
   "id": "df268791",
   "metadata": {
    "execution": {
     "iopub.execute_input": "2025-06-19T12:15:14.773459Z",
     "iopub.status.busy": "2025-06-19T12:15:14.773274Z",
     "iopub.status.idle": "2025-06-19T12:15:15.228639Z",
     "shell.execute_reply": "2025-06-19T12:15:15.227928Z",
     "shell.execute_reply.started": "2025-06-19T12:15:14.773445Z"
    },
    "trusted": true
   },
   "outputs": [],
   "source": [
    "negative_images = os.listdir(NEGATIVE_DATASET_IMG_DIR)\n",
    "random.shuffle(negative_images)"
   ]
  },
  {
   "cell_type": "code",
   "execution_count": 7,
   "id": "cdea6b69",
   "metadata": {
    "execution": {
     "iopub.execute_input": "2025-06-19T12:15:15.229690Z",
     "iopub.status.busy": "2025-06-19T12:15:15.229408Z",
     "iopub.status.idle": "2025-06-19T12:15:15.357729Z",
     "shell.execute_reply": "2025-06-19T12:15:15.357151Z",
     "shell.execute_reply.started": "2025-06-19T12:15:15.229658Z"
    },
    "trusted": true
   },
   "outputs": [
    {
     "data": {
      "text/html": [
       "<div>\n",
       "<style scoped>\n",
       "    .dataframe tbody tr th:only-of-type {\n",
       "        vertical-align: middle;\n",
       "    }\n",
       "\n",
       "    .dataframe tbody tr th {\n",
       "        vertical-align: top;\n",
       "    }\n",
       "\n",
       "    .dataframe thead th {\n",
       "        text-align: right;\n",
       "    }\n",
       "</style>\n",
       "<table border=\"1\" class=\"dataframe\">\n",
       "  <thead>\n",
       "    <tr style=\"text-align: right;\">\n",
       "      <th></th>\n",
       "      <th>filename</th>\n",
       "      <th>aqi</th>\n",
       "    </tr>\n",
       "  </thead>\n",
       "  <tbody>\n",
       "    <tr>\n",
       "      <th>0</th>\n",
       "      <td>BRI_Un_2023-02-02- 12.00-9.jpg</td>\n",
       "      <td>158</td>\n",
       "    </tr>\n",
       "    <tr>\n",
       "      <th>1</th>\n",
       "      <td>BRI_Un_2023-02-02- 12.00-8.jpg</td>\n",
       "      <td>158</td>\n",
       "    </tr>\n",
       "    <tr>\n",
       "      <th>2</th>\n",
       "      <td>BRI_Un_2023-02-02- 12.00-7.jpg</td>\n",
       "      <td>158</td>\n",
       "    </tr>\n",
       "    <tr>\n",
       "      <th>3</th>\n",
       "      <td>BRI_Un_2023-02-02- 12.00-6.jpg</td>\n",
       "      <td>158</td>\n",
       "    </tr>\n",
       "    <tr>\n",
       "      <th>4</th>\n",
       "      <td>BRI_Un_2023-02-02- 12.00-5.jpg</td>\n",
       "      <td>158</td>\n",
       "    </tr>\n",
       "  </tbody>\n",
       "</table>\n",
       "</div>"
      ],
      "text/plain": [
       "                         filename  aqi\n",
       "0  BRI_Un_2023-02-02- 12.00-9.jpg  158\n",
       "1  BRI_Un_2023-02-02- 12.00-8.jpg  158\n",
       "2  BRI_Un_2023-02-02- 12.00-7.jpg  158\n",
       "3  BRI_Un_2023-02-02- 12.00-6.jpg  158\n",
       "4  BRI_Un_2023-02-02- 12.00-5.jpg  158"
      ]
     },
     "execution_count": 7,
     "metadata": {},
     "output_type": "execute_result"
    }
   ],
   "source": [
    "# Only need image name and AQI\n",
    "df = pd.read_csv(CSV_DIR)\n",
    "df = df[[\"Filename\", \"AQI\"]]\n",
    "df = df.rename(columns={\"Filename\": \"filename\", \"AQI\": \"aqi\"})\n",
    "df.head()"
   ]
  },
  {
   "cell_type": "code",
   "execution_count": 8,
   "id": "422c93e2",
   "metadata": {},
   "outputs": [
    {
     "data": {
      "text/plain": [
       "(15, 450)"
      ]
     },
     "execution_count": 8,
     "metadata": {},
     "output_type": "execute_result"
    }
   ],
   "source": [
    "aqi = df[\"aqi\"]\n",
    "min(aqi), max(aqi)"
   ]
  },
  {
   "cell_type": "code",
   "execution_count": 5,
   "id": "3f380ec8",
   "metadata": {
    "execution": {
     "iopub.execute_input": "2025-06-19T12:15:15.358568Z",
     "iopub.status.busy": "2025-06-19T12:15:15.358358Z",
     "iopub.status.idle": "2025-06-19T12:15:15.372770Z",
     "shell.execute_reply": "2025-06-19T12:15:15.372129Z",
     "shell.execute_reply.started": "2025-06-19T12:15:15.358552Z"
    },
    "trusted": true
   },
   "outputs": [
    {
     "data": {
      "text/html": [
       "<div>\n",
       "<style scoped>\n",
       "    .dataframe tbody tr th:only-of-type {\n",
       "        vertical-align: middle;\n",
       "    }\n",
       "\n",
       "    .dataframe tbody tr th {\n",
       "        vertical-align: top;\n",
       "    }\n",
       "\n",
       "    .dataframe thead th {\n",
       "        text-align: right;\n",
       "    }\n",
       "</style>\n",
       "<table border=\"1\" class=\"dataframe\">\n",
       "  <thead>\n",
       "    <tr style=\"text-align: right;\">\n",
       "      <th></th>\n",
       "      <th>filename</th>\n",
       "      <th>aqi</th>\n",
       "    </tr>\n",
       "  </thead>\n",
       "  <tbody>\n",
       "    <tr>\n",
       "      <th>0</th>\n",
       "      <td>BENGR_Mod_2023-03-13-08.30-1-120.jpg</td>\n",
       "      <td>53</td>\n",
       "    </tr>\n",
       "    <tr>\n",
       "      <th>1</th>\n",
       "      <td>4543597747.jpg</td>\n",
       "      <td>-1</td>\n",
       "    </tr>\n",
       "    <tr>\n",
       "      <th>2</th>\n",
       "      <td>4549048831.jpg</td>\n",
       "      <td>-1</td>\n",
       "    </tr>\n",
       "    <tr>\n",
       "      <th>3</th>\n",
       "      <td>BIR_UNFSG_VF_2023-02-03-15.00-3-44.jpg</td>\n",
       "      <td>141</td>\n",
       "    </tr>\n",
       "    <tr>\n",
       "      <th>4</th>\n",
       "      <td>2066241589.jpg</td>\n",
       "      <td>-1</td>\n",
       "    </tr>\n",
       "    <tr>\n",
       "      <th>...</th>\n",
       "      <td>...</td>\n",
       "      <td>...</td>\n",
       "    </tr>\n",
       "    <tr>\n",
       "      <th>24475</th>\n",
       "      <td>6077121925.jpg</td>\n",
       "      <td>-1</td>\n",
       "    </tr>\n",
       "    <tr>\n",
       "      <th>24476</th>\n",
       "      <td>MH_UN_2023-03-15-15.00-1-281.jpg</td>\n",
       "      <td>162</td>\n",
       "    </tr>\n",
       "    <tr>\n",
       "      <th>24477</th>\n",
       "      <td>BIR_UNH_VF_2023-02-03- 10.00-2-38.jpg</td>\n",
       "      <td>163</td>\n",
       "    </tr>\n",
       "    <tr>\n",
       "      <th>24478</th>\n",
       "      <td>5004253043.jpg</td>\n",
       "      <td>-1</td>\n",
       "    </tr>\n",
       "    <tr>\n",
       "      <th>24479</th>\n",
       "      <td>4870438924.jpg</td>\n",
       "      <td>-1</td>\n",
       "    </tr>\n",
       "  </tbody>\n",
       "</table>\n",
       "<p>24480 rows × 2 columns</p>\n",
       "</div>"
      ],
      "text/plain": [
       "                                     filename  aqi\n",
       "0        BENGR_Mod_2023-03-13-08.30-1-120.jpg   53\n",
       "1                              4543597747.jpg   -1\n",
       "2                              4549048831.jpg   -1\n",
       "3      BIR_UNFSG_VF_2023-02-03-15.00-3-44.jpg  141\n",
       "4                              2066241589.jpg   -1\n",
       "...                                       ...  ...\n",
       "24475                          6077121925.jpg   -1\n",
       "24476        MH_UN_2023-03-15-15.00-1-281.jpg  162\n",
       "24477   BIR_UNH_VF_2023-02-03- 10.00-2-38.jpg  163\n",
       "24478                          5004253043.jpg   -1\n",
       "24479                          4870438924.jpg   -1\n",
       "\n",
       "[24480 rows x 2 columns]"
      ]
     },
     "execution_count": 5,
     "metadata": {},
     "output_type": "execute_result"
    }
   ],
   "source": [
    "negative_images = negative_images[:len(df)]\n",
    "negative_df = pd.DataFrame({\n",
    "    \"filename\": negative_images,\n",
    "    \"aqi\": -1\n",
    "})\n",
    "\n",
    "combined_df = pd.concat([df, negative_df], ignore_index=True)\n",
    "combined_df = combined_df.sample(frac=1, random_state=42).reset_index(drop=True) # Randomly shuffle dataframe\n",
    "combined_df"
   ]
  },
  {
   "cell_type": "code",
   "execution_count": 6,
   "id": "ca6cdd4b",
   "metadata": {
    "execution": {
     "iopub.execute_input": "2025-06-19T12:15:15.374149Z",
     "iopub.status.busy": "2025-06-19T12:15:15.373857Z",
     "iopub.status.idle": "2025-06-19T12:15:15.385995Z",
     "shell.execute_reply": "2025-06-19T12:15:15.385447Z",
     "shell.execute_reply.started": "2025-06-19T12:15:15.374126Z"
    },
    "trusted": true
   },
   "outputs": [],
   "source": [
    "class AQIDataset(Dataset):\n",
    "    def __init__(self, dataframe=combined_df, train=True, test=False, train_ratio=0.8):\n",
    "        super().__init__()\n",
    "        total_length = len(dataframe)\n",
    "        if train == True and test == False:\n",
    "            self.df = dataframe[:math.floor(train_ratio*total_length)]\n",
    "        elif train == False and test == True:\n",
    "            self.df = dataframe[math.floor(train_ratio*total_length):]\n",
    "        else:\n",
    "            raise ValueError(\"Invalid test and train combination\")\n",
    "        self.transform = transforms.Compose([\n",
    "            transforms.Resize((224, 224)),\n",
    "            transforms.ToTensor()\n",
    "        ])\n",
    "        \n",
    "    def __len__(self):\n",
    "        return len(self.df)\n",
    "    \n",
    "    def __getitem__(self, index):\n",
    "        current_item = self.df.iloc[index]\n",
    "        if current_item[\"aqi\"] == -1:\n",
    "            img_dir = NEGATIVE_DATASET_IMG_DIR\n",
    "        else:\n",
    "            img_dir = IMG_DIR\n",
    "        \n",
    "        image = Image.open(os.path.join(img_dir, current_item[\"filename\"]))\n",
    "        image = self.transform(image)\n",
    "        return {\n",
    "            \"aqi\": current_item[\"aqi\"],\n",
    "            \"image\": image,\n",
    "            \"is_sky\": 0 if current_item[\"aqi\"] == -1 else 1\n",
    "        }"
   ]
  },
  {
   "cell_type": "code",
   "execution_count": 7,
   "id": "d91467ae",
   "metadata": {
    "execution": {
     "iopub.execute_input": "2025-06-19T12:15:15.388746Z",
     "iopub.status.busy": "2025-06-19T12:15:15.388073Z",
     "iopub.status.idle": "2025-06-19T12:15:15.405486Z",
     "shell.execute_reply": "2025-06-19T12:15:15.404981Z",
     "shell.execute_reply.started": "2025-06-19T12:15:15.388727Z"
    },
    "trusted": true
   },
   "outputs": [],
   "source": [
    "class MultiDomainLoss(nn.Module):\n",
    "    def __init__(self, alpha=0.5, beta=0.5):\n",
    "        \"\"\"Loss function for classification and selective regression\n",
    "        \n",
    "        Args:\n",
    "            alpha (float): Weight for classification loss. Defaults to 0.5.\n",
    "            beta (float): Weight for regression loss. Defaults to 0.5.\n",
    "        \"\"\"\n",
    "        super().__init__()\n",
    "        self.classification_loss = nn.CrossEntropyLoss()\n",
    "        self.regression_loss = nn.MSELoss(reduction='none')  # Use 'none' to get per-sample losses\n",
    "        self.alpha = alpha\n",
    "        self.beta = beta\n",
    "        \n",
    "    def forward(self, pred, target):\n",
    "        \"\"\"Calculate loss with regression only for correct classifications\n",
    "        \n",
    "        Args:\n",
    "            pred (tuple): (is_sky_logits, aqi_pred) \n",
    "            target (tuple): (is_sky_target, aqi_target)\n",
    "        \"\"\"\n",
    "        is_sky_logits, aqi_pred = pred\n",
    "        is_sky_target, aqi_target = target\n",
    "\n",
    "        # Classification loss - applies to all samples\n",
    "        classification_loss = self.classification_loss(is_sky_logits, is_sky_target)\n",
    "        \n",
    "        # Get predicted classes\n",
    "        _, predicted_classes = torch.max(is_sky_logits, dim=1)\n",
    "        \n",
    "        # Create mask for correct classifications\n",
    "        correct_mask = (predicted_classes == is_sky_target).float()\n",
    "        \n",
    "        # Per-sample regression losses\n",
    "        per_sample_reg_loss = self.regression_loss(aqi_pred, aqi_target)\n",
    "        \n",
    "        # Only include regression loss for correctly classified samples\n",
    "        masked_reg_loss = per_sample_reg_loss * correct_mask\n",
    "        \n",
    "        # Calculate average regression loss for correct samples\n",
    "        correct_count = torch.sum(correct_mask)\n",
    "        if correct_count > 0:\n",
    "            regression_loss = torch.sum(masked_reg_loss) / correct_count\n",
    "        else:\n",
    "            regression_loss = torch.tensor(0.0, device=is_sky_logits.device)\n",
    "        \n",
    "        # Combined loss\n",
    "        return self.alpha * classification_loss + self.beta * regression_loss"
   ]
  },
  {
   "cell_type": "code",
   "execution_count": null,
   "id": "94d90dd8",
   "metadata": {
    "execution": {
     "iopub.execute_input": "2025-06-19T12:15:15.406283Z",
     "iopub.status.busy": "2025-06-19T12:15:15.406118Z",
     "iopub.status.idle": "2025-06-19T12:15:15.425269Z",
     "shell.execute_reply": "2025-06-19T12:15:15.424662Z",
     "shell.execute_reply.started": "2025-06-19T12:15:15.406269Z"
    },
    "trusted": true
   },
   "outputs": [],
   "source": [
    "class MultiTaskCNN(nn.Module):\n",
    "    def __init__(self):\n",
    "        super().__init__()\n",
    "\n",
    "        # Shared Encoder\n",
    "        self.encoder = nn.Sequential(\n",
    "            nn.Conv2d(3, 16, kernel_size=3, stride=1, padding=1),  # [B, 3, H, W] → [B, 16, H, W]\n",
    "            nn.BatchNorm2d(16),\n",
    "            nn.GELU(),\n",
    "            nn.MaxPool2d(2),  # ↓↓ resolution\n",
    "\n",
    "            nn.Conv2d(16, 32, kernel_size=3, stride=1, padding=1),  # [B, 32, H/2, W/2]\n",
    "            nn.BatchNorm2d(32),\n",
    "            nn.GELU(),\n",
    "            nn.MaxPool2d(2),  # ↓↓ resolution again\n",
    "            \n",
    "            nn.Conv2d(32, 32, kernel_size=3, stride=1, padding=1),  # [B, 32, H/2, W/2]\n",
    "            nn.BatchNorm2d(32),\n",
    "            nn.GELU(),\n",
    "\n",
    "            nn.Conv2d(32, 64, kernel_size=3, stride=1, padding=1),  # [B, 64, H/4, W/4]\n",
    "            nn.BatchNorm2d(64),\n",
    "            nn.GELU(),\n",
    "            nn.AdaptiveAvgPool2d((1, 1))  # → [B, 64, 1, 1]\n",
    "        )\n",
    "\n",
    "        # Classification Head\n",
    "        self.classifier = nn.Sequential(\n",
    "            nn.Flatten(),       # [B, 64]\n",
    "            nn.Linear(64, 32),\n",
    "            nn.GELU(),\n",
    "            nn.Dropout(0.5),\n",
    "            nn.Linear(32, 2)    # binary classification logits\n",
    "        )\n",
    "\n",
    "        # Regression Head\n",
    "        self.regressor = nn.Sequential(\n",
    "            nn.Flatten(),\n",
    "            nn.Linear(64, 32),\n",
    "            nn.ReLU(),\n",
    "            nn.Linear(32, 8),\n",
    "            nn.ReLU(),\n",
    "            nn.Linear(8, 1)    # output AQI as a float\n",
    "        )\n",
    "\n",
    "    def forward(self, x):\n",
    "        features = self.encoder(x)\n",
    "\n",
    "        is_sky_logits = self.classifier(features)\n",
    "        aqi_pred = self.regressor(features).squeeze(1)  # [B]\n",
    "\n",
    "        return is_sky_logits, aqi_pred"
   ]
  },
  {
   "cell_type": "code",
   "execution_count": 9,
   "id": "c00b0111",
   "metadata": {
    "execution": {
     "iopub.execute_input": "2025-06-19T12:15:15.426419Z",
     "iopub.status.busy": "2025-06-19T12:15:15.426158Z",
     "iopub.status.idle": "2025-06-19T12:15:15.538529Z",
     "shell.execute_reply": "2025-06-19T12:15:15.537982Z",
     "shell.execute_reply.started": "2025-06-19T12:15:15.426398Z"
    },
    "trusted": true
   },
   "outputs": [],
   "source": [
    "class Trainer:\n",
    "    def __init__(self, model, loss_fn, optimizer, device=\"cuda\" if torch.cuda.is_available() else \"cpu\"):\n",
    "        self.model = model.to(device)\n",
    "        self.model = torch.nn.DataParallel(self.model)\n",
    "        self.loss_fn = loss_fn \n",
    "        self.optimizer = optimizer\n",
    "        self.device = device\n",
    "\n",
    "    def _run_epoch(self, dataloader, train=True):\n",
    "        mode = 'train' if train else 'eval'\n",
    "        if train:\n",
    "            self.model.train()\n",
    "        else:\n",
    "            self.model.eval()\n",
    "\n",
    "        running_loss = 0.0\n",
    "        total = 0\n",
    "        correct = 0\n",
    "        total_mae = 0.0\n",
    "\n",
    "        loop = tqdm(dataloader, desc=f\"{mode.capitalize()}ing\", leave=False)\n",
    "        for batch in loop:\n",
    "            images = batch[\"image\"].to(self.device)\n",
    "            is_sky = batch[\"is_sky\"].to(self.device).long()\n",
    "            aqi = batch[\"aqi\"].to(self.device).float()\n",
    "\n",
    "            self.optimizer.zero_grad()\n",
    "\n",
    "            with torch.set_grad_enabled(train):\n",
    "                is_sky_logits, aqi_pred = self.model(images)\n",
    "                loss = self.loss_fn((is_sky_logits, aqi_pred), (is_sky, aqi))\n",
    "\n",
    "                if train:\n",
    "                    loss.backward()\n",
    "                    self.optimizer.step()\n",
    "\n",
    "            running_loss += loss.item() * images.size(0)\n",
    "\n",
    "            # Accuracy for classification\n",
    "            _, preds = torch.max(is_sky_logits, dim=1)\n",
    "            correct += torch.sum(preds == is_sky).item()\n",
    "            total += is_sky.size(0)\n",
    "\n",
    "            # MAE for regression\n",
    "            total_mae += torch.abs(aqi_pred - aqi).sum().item()\n",
    "\n",
    "        avg_loss = running_loss / total\n",
    "        acc = correct / total\n",
    "        mae = total_mae / total\n",
    "\n",
    "        return avg_loss, acc, mae\n",
    "\n",
    "    def fit(self, train_loader, val_loader, epochs=10, checkpoint=None):\n",
    "        \n",
    "        best_mae = 99999\n",
    "        current_epoch = 0\n",
    "        val_loss_list = []\n",
    "        train_loss_list = []\n",
    "        acc_list = []\n",
    "        mae_list = []\n",
    "        \n",
    "        if not checkpoint == None:\n",
    "            data = torch.load(checkpoint)\n",
    "            current_epoch = data[\"epoch\"]\n",
    "            best_mae = data[\"mae\"]\n",
    "            best_acc = data[\"acc\"]\n",
    "            val_loss_list = data[\"val_loss_list\"]\n",
    "            train_loss_list = data[\"train_loss_list\"]\n",
    "            acc_list = data[\"acc_list\"]\n",
    "            mae_list = data[\"mae_list\"]\n",
    "            self.model.load_state_dict(data[\"model\"])\n",
    "            print(f\"Loaded model at epoch {current_epoch}, mae: {best_mae}, acc: {best_acc}\")\n",
    "            \n",
    "        for epoch in range(current_epoch, epochs):\n",
    "            print(f\"Epoch {epoch}/{epochs}\")\n",
    "            train_loss, train_acc, train_mae = self._run_epoch(train_loader, train=True)\n",
    "            val_loss, val_acc, val_mae = self._run_epoch(val_loader, train=False)\n",
    "            \n",
    "            train_loss_list.append(train_loss)\n",
    "            val_loss_list.append(val_loss)\n",
    "            acc_list.append(val_acc)\n",
    "            mae_list.append(val_mae)\n",
    "            \n",
    "            if val_mae < best_mae:\n",
    "                best_mae = val_mae\n",
    "                torch.save({\n",
    "                    \"model\": self.model.state_dict(),\n",
    "                    \"epoch\": epoch,\n",
    "                    \"mae\": val_mae,\n",
    "                    \"acc\": val_acc,\n",
    "                    \"train_loss_list\": train_loss_list,\n",
    "                    \"val_loss_list\": val_loss_list,\n",
    "                    \"acc_list\": acc_list,\n",
    "                    \"mae_list\": mae_list\n",
    "                }, \"best_model.pth\")\n",
    "                print(f\"Saved best model with acc:{val_acc} and mae:{val_mae} in epoch {epoch}\")\n",
    "\n",
    "            print(f\"Train   | Loss: {train_loss:.4f} | Acc: {train_acc:.4f} | MAE: {train_mae:.2f}\")\n",
    "            print(f\"Val     | Loss: {val_loss:.4f} | Acc: {val_acc:.4f} | MAE: {val_mae:.2f}\")\n"
   ]
  },
  {
   "cell_type": "code",
   "execution_count": 10,
   "id": "7b7f3979",
   "metadata": {
    "execution": {
     "iopub.execute_input": "2025-06-19T12:15:15.539759Z",
     "iopub.status.busy": "2025-06-19T12:15:15.539450Z",
     "iopub.status.idle": "2025-06-19T12:15:15.805566Z",
     "shell.execute_reply": "2025-06-19T12:15:15.804821Z",
     "shell.execute_reply.started": "2025-06-19T12:15:15.539735Z"
    },
    "trusted": true
   },
   "outputs": [],
   "source": [
    "model = MultiTaskCNN()\n",
    "loss_fn = MultiDomainLoss(alpha=0.1, beta=0.9)\n",
    "epochs = 100\n",
    "optimizer = torch.optim.Adam(params=model.parameters(), lr=1e-4,  weight_decay=1e-5)\n",
    "trainer = Trainer(model=model, loss_fn=loss_fn, optimizer=optimizer)\n",
    "\n",
    "train_dataset = AQIDataset(train=True, test=False)\n",
    "train_loader = DataLoader(dataset=train_dataset, batch_size=16, num_workers=2)\n",
    "\n",
    "val_dataset = AQIDataset(train=False, test=True)\n",
    "val_loader = DataLoader(dataset=val_dataset, batch_size=16, num_workers=2)"
   ]
  },
  {
   "cell_type": "code",
   "execution_count": 11,
   "id": "f0cb3143",
   "metadata": {
    "execution": {
     "iopub.execute_input": "2025-06-19T12:15:15.806622Z",
     "iopub.status.busy": "2025-06-19T12:15:15.806370Z",
     "iopub.status.idle": "2025-06-19T13:24:30.379892Z",
     "shell.execute_reply": "2025-06-19T13:24:30.379004Z",
     "shell.execute_reply.started": "2025-06-19T12:15:15.806604Z"
    },
    "trusted": true
   },
   "outputs": [
    {
     "name": "stdout",
     "output_type": "stream",
     "text": [
      "Loaded model at epoch 49, mae: 17.7043509288551, acc: 0.9846813725490197\n",
      "Epoch 49/100\n"
     ]
    },
    {
     "name": "stderr",
     "output_type": "stream",
     "text": [
      "                                                             \r"
     ]
    },
    {
     "name": "stdout",
     "output_type": "stream",
     "text": [
      "Train   | Loss: 965.1922 | Acc: 0.9766 | MAE: 20.04\n",
      "Val     | Loss: 754.1719 | Acc: 0.9841 | MAE: 17.89\n",
      "Epoch 50/100\n"
     ]
    },
    {
     "name": "stderr",
     "output_type": "stream",
     "text": [
      "                                                             \r"
     ]
    },
    {
     "name": "stdout",
     "output_type": "stream",
     "text": [
      "Train   | Loss: 951.5973 | Acc: 0.9772 | MAE: 19.75\n",
      "Val     | Loss: 783.4356 | Acc: 0.9843 | MAE: 17.82\n",
      "Epoch 51/100\n"
     ]
    },
    {
     "name": "stderr",
     "output_type": "stream",
     "text": [
      "                                                             \r"
     ]
    },
    {
     "name": "stdout",
     "output_type": "stream",
     "text": [
      "Train   | Loss: 925.9298 | Acc: 0.9777 | MAE: 19.44\n",
      "Val     | Loss: 775.5825 | Acc: 0.9847 | MAE: 17.98\n",
      "Epoch 52/100\n"
     ]
    },
    {
     "name": "stderr",
     "output_type": "stream",
     "text": [
      "                                                             \r"
     ]
    },
    {
     "name": "stdout",
     "output_type": "stream",
     "text": [
      "Saved best model with acc:0.983251633986928 and mae:17.38232477116429 in epoch 52\n",
      "Train   | Loss: 925.4862 | Acc: 0.9780 | MAE: 19.45\n",
      "Val     | Loss: 753.3863 | Acc: 0.9833 | MAE: 17.38\n",
      "Epoch 53/100\n"
     ]
    },
    {
     "name": "stderr",
     "output_type": "stream",
     "text": [
      "                                                             \r"
     ]
    },
    {
     "name": "stdout",
     "output_type": "stream",
     "text": [
      "Train   | Loss: 936.8265 | Acc: 0.9786 | MAE: 19.29\n",
      "Val     | Loss: 855.2358 | Acc: 0.9826 | MAE: 18.72\n",
      "Epoch 54/100\n"
     ]
    },
    {
     "name": "stderr",
     "output_type": "stream",
     "text": [
      "                                                             \r"
     ]
    },
    {
     "name": "stdout",
     "output_type": "stream",
     "text": [
      "Saved best model with acc:0.9836601307189542 and mae:17.334309157203226 in epoch 54\n",
      "Train   | Loss: 903.0923 | Acc: 0.9778 | MAE: 19.02\n",
      "Val     | Loss: 721.6870 | Acc: 0.9837 | MAE: 17.33\n",
      "Epoch 55/100\n"
     ]
    },
    {
     "name": "stderr",
     "output_type": "stream",
     "text": [
      "                                                             \r"
     ]
    },
    {
     "name": "stdout",
     "output_type": "stream",
     "text": [
      "Saved best model with acc:0.9846813725490197 and mae:16.718325493382473 in epoch 55\n",
      "Train   | Loss: 893.9582 | Acc: 0.9793 | MAE: 18.84\n",
      "Val     | Loss: 688.3141 | Acc: 0.9847 | MAE: 16.72\n",
      "Epoch 56/100\n"
     ]
    },
    {
     "name": "stderr",
     "output_type": "stream",
     "text": [
      "                                                             \r"
     ]
    },
    {
     "name": "stdout",
     "output_type": "stream",
     "text": [
      "Train   | Loss: 888.6476 | Acc: 0.9793 | MAE: 18.76\n",
      "Val     | Loss: 760.1140 | Acc: 0.9847 | MAE: 17.41\n",
      "Epoch 57/100\n"
     ]
    },
    {
     "name": "stderr",
     "output_type": "stream",
     "text": [
      "                                                             \r"
     ]
    },
    {
     "name": "stdout",
     "output_type": "stream",
     "text": [
      "Train   | Loss: 863.3057 | Acc: 0.9778 | MAE: 18.50\n",
      "Val     | Loss: 727.4784 | Acc: 0.9830 | MAE: 17.03\n",
      "Epoch 58/100\n"
     ]
    },
    {
     "name": "stderr",
     "output_type": "stream",
     "text": [
      "                                                             \r"
     ]
    },
    {
     "name": "stdout",
     "output_type": "stream",
     "text": [
      "Train   | Loss: 866.0251 | Acc: 0.9796 | MAE: 18.46\n",
      "Val     | Loss: 712.5389 | Acc: 0.9849 | MAE: 16.76\n",
      "Epoch 59/100\n"
     ]
    },
    {
     "name": "stderr",
     "output_type": "stream",
     "text": [
      "                                                             \r"
     ]
    },
    {
     "name": "stdout",
     "output_type": "stream",
     "text": [
      "Train   | Loss: 852.7839 | Acc: 0.9804 | MAE: 18.27\n",
      "Val     | Loss: 711.7836 | Acc: 0.9845 | MAE: 17.29\n",
      "Epoch 60/100\n"
     ]
    },
    {
     "name": "stderr",
     "output_type": "stream",
     "text": [
      "                                                             \r"
     ]
    },
    {
     "name": "stdout",
     "output_type": "stream",
     "text": [
      "Train   | Loss: 861.7785 | Acc: 0.9795 | MAE: 18.39\n",
      "Val     | Loss: 760.6953 | Acc: 0.9849 | MAE: 17.30\n",
      "Epoch 61/100\n"
     ]
    },
    {
     "name": "stderr",
     "output_type": "stream",
     "text": [
      "                                                             \r"
     ]
    },
    {
     "name": "stdout",
     "output_type": "stream",
     "text": [
      "Train   | Loss: 812.0270 | Acc: 0.9810 | MAE: 17.87\n",
      "Val     | Loss: 711.5145 | Acc: 0.9839 | MAE: 16.84\n",
      "Epoch 62/100\n"
     ]
    },
    {
     "name": "stderr",
     "output_type": "stream",
     "text": [
      "                                                             \r"
     ]
    },
    {
     "name": "stdout",
     "output_type": "stream",
     "text": [
      "Train   | Loss: 835.7975 | Acc: 0.9810 | MAE: 18.10\n",
      "Val     | Loss: 723.0460 | Acc: 0.9835 | MAE: 16.83\n",
      "Epoch 63/100\n"
     ]
    },
    {
     "name": "stderr",
     "output_type": "stream",
     "text": [
      "                                                             \r"
     ]
    },
    {
     "name": "stdout",
     "output_type": "stream",
     "text": [
      "Train   | Loss: 796.5856 | Acc: 0.9810 | MAE: 17.67\n",
      "Val     | Loss: 750.8258 | Acc: 0.9861 | MAE: 17.37\n",
      "Epoch 64/100\n"
     ]
    },
    {
     "name": "stderr",
     "output_type": "stream",
     "text": [
      "                                                             \r"
     ]
    },
    {
     "name": "stdout",
     "output_type": "stream",
     "text": [
      "Train   | Loss: 778.6777 | Acc: 0.9806 | MAE: 17.48\n",
      "Val     | Loss: 740.1805 | Acc: 0.9849 | MAE: 17.44\n",
      "Epoch 65/100\n"
     ]
    },
    {
     "name": "stderr",
     "output_type": "stream",
     "text": [
      "                                                             \r"
     ]
    },
    {
     "name": "stdout",
     "output_type": "stream",
     "text": [
      "Train   | Loss: 773.1075 | Acc: 0.9817 | MAE: 17.43\n",
      "Val     | Loss: 723.9314 | Acc: 0.9851 | MAE: 16.73\n",
      "Epoch 66/100\n"
     ]
    },
    {
     "name": "stderr",
     "output_type": "stream",
     "text": [
      "                                                             \r"
     ]
    },
    {
     "name": "stdout",
     "output_type": "stream",
     "text": [
      "Train   | Loss: 767.0782 | Acc: 0.9820 | MAE: 17.36\n",
      "Val     | Loss: 727.2627 | Acc: 0.9867 | MAE: 17.03\n",
      "Epoch 67/100\n"
     ]
    },
    {
     "name": "stderr",
     "output_type": "stream",
     "text": [
      "                                                             \r"
     ]
    },
    {
     "name": "stdout",
     "output_type": "stream",
     "text": [
      "Train   | Loss: 788.6728 | Acc: 0.9818 | MAE: 17.59\n",
      "Val     | Loss: 745.5406 | Acc: 0.9879 | MAE: 16.99\n",
      "Epoch 68/100\n"
     ]
    },
    {
     "name": "stderr",
     "output_type": "stream",
     "text": [
      "                                                             \r"
     ]
    },
    {
     "name": "stdout",
     "output_type": "stream",
     "text": [
      "Saved best model with acc:0.9842728758169934 and mae:16.276266797695286 in epoch 68\n",
      "Train   | Loss: 753.9733 | Acc: 0.9821 | MAE: 17.11\n",
      "Val     | Loss: 667.6569 | Acc: 0.9843 | MAE: 16.28\n",
      "Epoch 69/100\n"
     ]
    },
    {
     "name": "stderr",
     "output_type": "stream",
     "text": [
      "                                                             \r"
     ]
    },
    {
     "name": "stdout",
     "output_type": "stream",
     "text": [
      "Train   | Loss: 746.0155 | Acc: 0.9831 | MAE: 16.96\n",
      "Val     | Loss: 722.4171 | Acc: 0.9861 | MAE: 16.71\n",
      "Epoch 70/100\n"
     ]
    },
    {
     "name": "stderr",
     "output_type": "stream",
     "text": [
      "                                                             \r"
     ]
    },
    {
     "name": "stdout",
     "output_type": "stream",
     "text": [
      "Saved best model with acc:0.9865196078431373 and mae:16.061715720525754 in epoch 70\n",
      "Train   | Loss: 734.2698 | Acc: 0.9822 | MAE: 16.96\n",
      "Val     | Loss: 658.1039 | Acc: 0.9865 | MAE: 16.06\n",
      "Epoch 71/100\n"
     ]
    },
    {
     "name": "stderr",
     "output_type": "stream",
     "text": [
      "                                                             \r"
     ]
    },
    {
     "name": "stdout",
     "output_type": "stream",
     "text": [
      "Saved best model with acc:0.9852941176470589 and mae:15.997233385354086 in epoch 71\n",
      "Train   | Loss: 709.2355 | Acc: 0.9828 | MAE: 16.64\n",
      "Val     | Loss: 646.8613 | Acc: 0.9853 | MAE: 16.00\n",
      "Epoch 72/100\n"
     ]
    },
    {
     "name": "stderr",
     "output_type": "stream",
     "text": [
      "                                                             \r"
     ]
    },
    {
     "name": "stdout",
     "output_type": "stream",
     "text": [
      "Train   | Loss: 717.5248 | Acc: 0.9834 | MAE: 16.80\n",
      "Val     | Loss: 725.3113 | Acc: 0.9853 | MAE: 17.18\n",
      "Epoch 73/100\n"
     ]
    },
    {
     "name": "stderr",
     "output_type": "stream",
     "text": [
      "                                                             \r"
     ]
    },
    {
     "name": "stdout",
     "output_type": "stream",
     "text": [
      "Train   | Loss: 711.0149 | Acc: 0.9833 | MAE: 16.57\n",
      "Val     | Loss: 684.9112 | Acc: 0.9861 | MAE: 16.21\n",
      "Epoch 74/100\n"
     ]
    },
    {
     "name": "stderr",
     "output_type": "stream",
     "text": [
      "                                                             \r"
     ]
    },
    {
     "name": "stdout",
     "output_type": "stream",
     "text": [
      "Train   | Loss: 695.5401 | Acc: 0.9836 | MAE: 16.49\n",
      "Val     | Loss: 790.7066 | Acc: 0.9851 | MAE: 17.82\n",
      "Epoch 75/100\n"
     ]
    },
    {
     "name": "stderr",
     "output_type": "stream",
     "text": [
      "                                                             \r"
     ]
    },
    {
     "name": "stdout",
     "output_type": "stream",
     "text": [
      "Saved best model with acc:0.9842728758169934 and mae:15.64784127590703 in epoch 75\n",
      "Train   | Loss: 695.4520 | Acc: 0.9837 | MAE: 16.43\n",
      "Val     | Loss: 610.7669 | Acc: 0.9843 | MAE: 15.65\n",
      "Epoch 76/100\n"
     ]
    },
    {
     "name": "stderr",
     "output_type": "stream",
     "text": [
      "                                                             \r"
     ]
    },
    {
     "name": "stdout",
     "output_type": "stream",
     "text": [
      "Train   | Loss: 708.0578 | Acc: 0.9837 | MAE: 16.49\n",
      "Val     | Loss: 694.8877 | Acc: 0.9863 | MAE: 16.74\n",
      "Epoch 77/100\n"
     ]
    },
    {
     "name": "stderr",
     "output_type": "stream",
     "text": [
      "                                                             \r"
     ]
    },
    {
     "name": "stdout",
     "output_type": "stream",
     "text": [
      "Train   | Loss: 669.7992 | Acc: 0.9840 | MAE: 16.20\n",
      "Val     | Loss: 718.8951 | Acc: 0.9843 | MAE: 17.13\n",
      "Epoch 78/100\n"
     ]
    },
    {
     "name": "stderr",
     "output_type": "stream",
     "text": [
      "                                                             \r"
     ]
    },
    {
     "name": "stdout",
     "output_type": "stream",
     "text": [
      "Train   | Loss: 749.9567 | Acc: 0.9828 | MAE: 16.88\n",
      "Val     | Loss: 641.2758 | Acc: 0.9875 | MAE: 15.77\n",
      "Epoch 79/100\n"
     ]
    },
    {
     "name": "stderr",
     "output_type": "stream",
     "text": [
      "                                                             \r"
     ]
    },
    {
     "name": "stdout",
     "output_type": "stream",
     "text": [
      "Train   | Loss: 668.2332 | Acc: 0.9847 | MAE: 16.02\n",
      "Val     | Loss: 852.4315 | Acc: 0.9861 | MAE: 18.57\n",
      "Epoch 80/100\n"
     ]
    },
    {
     "name": "stderr",
     "output_type": "stream",
     "text": [
      "                                                             \r"
     ]
    },
    {
     "name": "stdout",
     "output_type": "stream",
     "text": [
      "Train   | Loss: 678.9616 | Acc: 0.9843 | MAE: 16.21\n",
      "Val     | Loss: 813.4359 | Acc: 0.9873 | MAE: 18.04\n",
      "Epoch 81/100\n"
     ]
    },
    {
     "name": "stderr",
     "output_type": "stream",
     "text": [
      "                                                             \r"
     ]
    },
    {
     "name": "stdout",
     "output_type": "stream",
     "text": [
      "Train   | Loss: 640.4352 | Acc: 0.9849 | MAE: 15.73\n",
      "Val     | Loss: 701.0600 | Acc: 0.9882 | MAE: 16.15\n",
      "Epoch 82/100\n"
     ]
    },
    {
     "name": "stderr",
     "output_type": "stream",
     "text": [
      "                                                             \r"
     ]
    },
    {
     "name": "stdout",
     "output_type": "stream",
     "text": [
      "Train   | Loss: 649.5579 | Acc: 0.9845 | MAE: 15.87\n",
      "Val     | Loss: 658.1823 | Acc: 0.9877 | MAE: 15.97\n",
      "Epoch 83/100\n"
     ]
    },
    {
     "name": "stderr",
     "output_type": "stream",
     "text": [
      "                                                             \r"
     ]
    },
    {
     "name": "stdout",
     "output_type": "stream",
     "text": [
      "Train   | Loss: 635.7568 | Acc: 0.9849 | MAE: 15.65\n",
      "Val     | Loss: 649.9577 | Acc: 0.9865 | MAE: 16.36\n",
      "Epoch 84/100\n"
     ]
    },
    {
     "name": "stderr",
     "output_type": "stream",
     "text": [
      "                                                             \r"
     ]
    },
    {
     "name": "stdout",
     "output_type": "stream",
     "text": [
      "Train   | Loss: 621.6573 | Acc: 0.9850 | MAE: 15.50\n",
      "Val     | Loss: 617.6470 | Acc: 0.9871 | MAE: 15.65\n",
      "Epoch 85/100\n"
     ]
    },
    {
     "name": "stderr",
     "output_type": "stream",
     "text": [
      "                                                             \r"
     ]
    },
    {
     "name": "stdout",
     "output_type": "stream",
     "text": [
      "Train   | Loss: 626.6644 | Acc: 0.9849 | MAE: 15.54\n",
      "Val     | Loss: 801.5025 | Acc: 0.9869 | MAE: 18.19\n",
      "Epoch 86/100\n"
     ]
    },
    {
     "name": "stderr",
     "output_type": "stream",
     "text": [
      "                                                             \r"
     ]
    },
    {
     "name": "stdout",
     "output_type": "stream",
     "text": [
      "Train   | Loss: 629.5695 | Acc: 0.9847 | MAE: 15.59\n",
      "Val     | Loss: 608.0889 | Acc: 0.9879 | MAE: 15.67\n",
      "Epoch 87/100\n"
     ]
    },
    {
     "name": "stderr",
     "output_type": "stream",
     "text": [
      "                                                             \r"
     ]
    },
    {
     "name": "stdout",
     "output_type": "stream",
     "text": [
      "Train   | Loss: 632.8386 | Acc: 0.9851 | MAE: 15.58\n",
      "Val     | Loss: 715.6976 | Acc: 0.9873 | MAE: 17.23\n",
      "Epoch 88/100\n"
     ]
    },
    {
     "name": "stderr",
     "output_type": "stream",
     "text": [
      "                                                             \r"
     ]
    },
    {
     "name": "stdout",
     "output_type": "stream",
     "text": [
      "Train   | Loss: 594.5407 | Acc: 0.9857 | MAE: 15.14\n",
      "Val     | Loss: 641.2262 | Acc: 0.9884 | MAE: 16.17\n",
      "Epoch 89/100\n"
     ]
    },
    {
     "name": "stderr",
     "output_type": "stream",
     "text": [
      "                                                             \r"
     ]
    },
    {
     "name": "stdout",
     "output_type": "stream",
     "text": [
      "Train   | Loss: 606.5410 | Acc: 0.9848 | MAE: 15.31\n",
      "Val     | Loss: 843.4293 | Acc: 0.9833 | MAE: 19.29\n",
      "Epoch 90/100\n"
     ]
    },
    {
     "name": "stderr",
     "output_type": "stream",
     "text": [
      "                                                             \r"
     ]
    },
    {
     "name": "stdout",
     "output_type": "stream",
     "text": [
      "Train   | Loss: 589.8449 | Acc: 0.9855 | MAE: 15.10\n",
      "Val     | Loss: 857.9162 | Acc: 0.9861 | MAE: 19.10\n",
      "Epoch 91/100\n"
     ]
    },
    {
     "name": "stderr",
     "output_type": "stream",
     "text": [
      "                                                             \r"
     ]
    },
    {
     "name": "stdout",
     "output_type": "stream",
     "text": [
      "Saved best model with acc:0.9861111111111112 and mae:14.945576082647236 in epoch 91\n",
      "Train   | Loss: 579.1869 | Acc: 0.9855 | MAE: 14.96\n",
      "Val     | Loss: 570.6252 | Acc: 0.9861 | MAE: 14.95\n",
      "Epoch 92/100\n"
     ]
    },
    {
     "name": "stderr",
     "output_type": "stream",
     "text": [
      "                                                             \r"
     ]
    },
    {
     "name": "stdout",
     "output_type": "stream",
     "text": [
      "Train   | Loss: 593.0354 | Acc: 0.9853 | MAE: 15.05\n",
      "Val     | Loss: 815.8022 | Acc: 0.9843 | MAE: 18.43\n",
      "Epoch 93/100\n"
     ]
    },
    {
     "name": "stderr",
     "output_type": "stream",
     "text": [
      "                                                             \r"
     ]
    },
    {
     "name": "stdout",
     "output_type": "stream",
     "text": [
      "Train   | Loss: 589.5914 | Acc: 0.9864 | MAE: 15.05\n",
      "Val     | Loss: 622.3008 | Acc: 0.9882 | MAE: 15.16\n",
      "Epoch 94/100\n"
     ]
    },
    {
     "name": "stderr",
     "output_type": "stream",
     "text": [
      "                                                             \r"
     ]
    },
    {
     "name": "stdout",
     "output_type": "stream",
     "text": [
      "Train   | Loss: 562.0030 | Acc: 0.9868 | MAE: 14.74\n",
      "Val     | Loss: 559.2287 | Acc: 0.9867 | MAE: 15.03\n",
      "Epoch 95/100\n"
     ]
    },
    {
     "name": "stderr",
     "output_type": "stream",
     "text": [
      "                                                             \r"
     ]
    },
    {
     "name": "stdout",
     "output_type": "stream",
     "text": [
      "Train   | Loss: 560.6890 | Acc: 0.9865 | MAE: 14.68\n",
      "Val     | Loss: 838.3492 | Acc: 0.9841 | MAE: 19.21\n",
      "Epoch 96/100\n"
     ]
    },
    {
     "name": "stderr",
     "output_type": "stream",
     "text": [
      "                                                             \r"
     ]
    },
    {
     "name": "stdout",
     "output_type": "stream",
     "text": [
      "Train   | Loss: 575.0537 | Acc: 0.9858 | MAE: 14.89\n",
      "Val     | Loss: 671.6555 | Acc: 0.9867 | MAE: 16.85\n",
      "Epoch 97/100\n"
     ]
    },
    {
     "name": "stderr",
     "output_type": "stream",
     "text": [
      "                                                             \r"
     ]
    },
    {
     "name": "stdout",
     "output_type": "stream",
     "text": [
      "Train   | Loss: 565.7303 | Acc: 0.9866 | MAE: 14.69\n",
      "Val     | Loss: 749.7885 | Acc: 0.9861 | MAE: 17.58\n",
      "Epoch 98/100\n"
     ]
    },
    {
     "name": "stderr",
     "output_type": "stream",
     "text": [
      "                                                             \r"
     ]
    },
    {
     "name": "stdout",
     "output_type": "stream",
     "text": [
      "Train   | Loss: 533.7784 | Acc: 0.9866 | MAE: 14.38\n",
      "Val     | Loss: 865.1231 | Acc: 0.9855 | MAE: 19.41\n",
      "Epoch 99/100\n"
     ]
    },
    {
     "name": "stderr",
     "output_type": "stream",
     "text": [
      "                                                             "
     ]
    },
    {
     "name": "stdout",
     "output_type": "stream",
     "text": [
      "Train   | Loss: 538.0236 | Acc: 0.9868 | MAE: 14.40\n",
      "Val     | Loss: 568.9176 | Acc: 0.9869 | MAE: 15.08\n"
     ]
    },
    {
     "name": "stderr",
     "output_type": "stream",
     "text": [
      "\r"
     ]
    }
   ],
   "source": [
    "if os.path.exists(\"best_model.pth\"):\n",
    "    checkpoint = \"best_model.pth\"\n",
    "else:\n",
    "    checkpoint = None        \n",
    "trainer.fit(train_loader=train_loader, val_loader=val_loader, epochs=epochs, checkpoint=checkpoint)"
   ]
  }
 ],
 "metadata": {
  "kaggle": {
   "accelerator": "nvidiaTeslaT4",
   "dataSources": [
    {
     "datasetId": 857191,
     "sourceId": 1462296,
     "sourceType": "datasetVersion"
    },
    {
     "datasetId": 2808179,
     "sourceId": 4845244,
     "sourceType": "datasetVersion"
    },
    {
     "datasetId": 3152196,
     "sourceId": 8350406,
     "sourceType": "datasetVersion"
    }
   ],
   "dockerImageVersionId": 31040,
   "isGpuEnabled": true,
   "isInternetEnabled": true,
   "language": "python",
   "sourceType": "notebook"
  },
  "kernelspec": {
   "display_name": ".venv",
   "language": "python",
   "name": "python3"
  },
  "language_info": {
   "codemirror_mode": {
    "name": "ipython",
    "version": 3
   },
   "file_extension": ".py",
   "mimetype": "text/x-python",
   "name": "python",
   "nbconvert_exporter": "python",
   "pygments_lexer": "ipython3",
   "version": "3.13.3"
  }
 },
 "nbformat": 4,
 "nbformat_minor": 5
}
